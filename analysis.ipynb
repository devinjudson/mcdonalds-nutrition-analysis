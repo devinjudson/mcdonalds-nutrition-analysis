{
 "cells": [
  {
   "cell_type": "code",
   "execution_count": 29,
   "id": "0c411251",
   "metadata": {},
   "outputs": [],
   "source": [
    "import pandas as pd\n",
    "import numpy as np\n",
    "\n",
    "df = pd.read_csv('mcdonaldata.csv')"
   ]
  },
  {
   "cell_type": "code",
   "execution_count": 30,
   "id": "2d74dcfe",
   "metadata": {},
   "outputs": [],
   "source": [
    "# Keep only items that belong to regular, desert, or gourmet menus\n",
    "df = df[df[\"menu\"].isin([\"regular\", \"desert\", \"gourmet\"])].copy()"
   ]
  },
  {
   "cell_type": "code",
   "execution_count": 31,
   "id": "892605ae",
   "metadata": {},
   "outputs": [],
   "source": [
    "# Eliminate unnecessary columns\n",
    "df = df[[\"item\", \"servesize\", \"calories\", \"protien\"]].copy()\n"
   ]
  },
  {
   "cell_type": "code",
   "execution_count": 32,
   "id": "70d703a1",
   "metadata": {},
   "outputs": [],
   "source": [
    "# Rename columns for clarity\n",
    "df = df.rename(columns={\n",
    "    \"servesize\": \"serving_size\",\n",
    "    \"protien\": \"protein\"\n",
    "})"
   ]
  },
  {
   "cell_type": "code",
   "execution_count": 33,
   "id": "883f7101",
   "metadata": {},
   "outputs": [],
   "source": [
    "# Convert numeric columns from string to numeric\n",
    "numeric_cols = [\"calories\", \"protein\"]\n",
    "\n",
    "df[numeric_cols] = df[numeric_cols].apply(pd.to_numeric, errors=\"coerce\")"
   ]
  },
  {
   "cell_type": "code",
   "execution_count": 34,
   "id": "2c84f28c",
   "metadata": {},
   "outputs": [],
   "source": [
    "# Strip whitespace before/after item names\n",
    "df[\"item\"] = df[\"item\"].str.strip()"
   ]
  },
  {
   "cell_type": "code",
   "execution_count": 35,
   "id": "fa0ceb7a",
   "metadata": {},
   "outputs": [],
   "source": [
    "# drop rows with missing protein or calories\n",
    "df = df.dropna(subset=[\"calories\", \"protein\"])"
   ]
  },
  {
   "cell_type": "code",
   "execution_count": 36,
   "id": "12d32542",
   "metadata": {},
   "outputs": [],
   "source": [
    "# set nonpositive calories to NaN (can't take log or divide by 0)\n",
    "df.loc[df[\"calories\"] <= 0, \"calories\"] = np.nan\n",
    "df = df.dropna(subset=[\"calories\"])  # remove the bad rows"
   ]
  },
  {
   "cell_type": "code",
   "execution_count": 37,
   "id": "65f419a7",
   "metadata": {},
   "outputs": [],
   "source": [
    "# Protein per calorie (cutting score)\n",
    "df[\"cutting_score\"] = df[\"protein\"] / df[\"calories\"]\n",
    "\n",
    "# Bulking score (protein * log(calories))\n",
    "df[\"bulking_score\"] = df[\"protein\"] * np.log(df[\"calories\"])"
   ]
  },
  {
   "cell_type": "code",
   "execution_count": 38,
   "id": "5c64d7b9",
   "metadata": {},
   "outputs": [
    {
     "name": "stdout",
     "output_type": "stream",
     "text": [
      "                                           item serving_size  calories  \\\n",
      "0                               McVeggie Burger         168     402.00   \n",
      "1                           McAloo Tikki Burger         146     339.00   \n",
      "2                        McSpicy Paneer Burger         199     652.00   \n",
      "3                             Spicy Paneer Wrap         250     674.00   \n",
      "4                           American Veg Burger         177     512.00   \n",
      "5                              Veg Maharaja Mac          306    832.00   \n",
      "6                      Green Chilli Aloo Naan p        132      356.00   \n",
      "7                                    Pizza Puff          87     228.00   \n",
      "8                             Mc chicken Burger         173     400.00   \n",
      "9                          FILLET-O-FISH Burger         136     348.00   \n",
      "10                      Mc Spicy Chicken Burger         186     451.00   \n",
      "11                           Spicy Chicken Wrap         257     567.00   \n",
      "12                         Chicken Maharaja Mac        296      689.00   \n",
      "13                      American Chicken Burger        165      446.00   \n",
      "14                         Chicken Kebab Burger        138      357.00   \n",
      "15                      Green Chilli Kebab naan          138    230.00   \n",
      "16                         Mc Egg Masala Burger       126.2     290.00   \n",
      "17                 Mc Egg Burger for Happy Meal          123    282.00   \n",
      "18   Ghee Rice with Mc Spicy Fried Chicken 1 pc          325    720.00   \n",
      "19                   McSpicy Fried Chicken 1 pc          115    248.00   \n",
      "20                    4 piece Chicken McNuggets           64    169.00   \n",
      "21                    6 piece Chicken McNuggets           96    254.00   \n",
      "22                    9 piece Chicken McNuggets         144     381.00   \n",
      "23                       2 piece Chicken Strips          58     164.00   \n",
      "24                       3 piece Chicken Strips          87     246.00   \n",
      "25                       5 piece Chicken Strips         145     411.00   \n",
      "26                                Regular Fries          77     224.00   \n",
      "27                                 Medium Fries         109     317.00   \n",
      "28                                  Large Fries         154     449.00   \n",
      "29                               Regular Wedges         114     204.00   \n",
      "30                                Medium Wedges          156    280.00   \n",
      "31                                 Large Wedges          216    387.00   \n",
      "32                                    L1 Coffee          200      7.00   \n",
      "33                          L1 Coffee with milk          205     36.00   \n",
      "34                     Double Chocochips Muffin           80    342.00   \n",
      "35                    Vanilla Chocochips Muffin           80    329.00   \n",
      "104              American Triple Cheese Chicken         195     457.94   \n",
      "112               Piri piri Mc Spicy Veg Burger          211    517.98   \n",
      "113                    Cheesy Veg Nuggets (6pc)           90    252.29   \n",
      "114                    Cheesy Veg Nuggets (9pc)          135    378.43   \n",
      "\n",
      "     protein  cutting_score  bulking_score  \n",
      "0      10.24       0.025473      61.403669  \n",
      "1       8.50       0.025074      49.521001  \n",
      "2      20.29       0.031120     131.480104  \n",
      "3      20.96       0.031098     136.517303  \n",
      "4      15.30       0.029883      95.446367  \n",
      "5      24.17       0.029050     162.515030  \n",
      "6       7.91       0.022219      46.470702  \n",
      "7       5.45       0.023904      29.589934  \n",
      "8      15.66       0.039150      93.826335  \n",
      "9      15.44       0.044368      90.358006  \n",
      "10     21.46       0.047583     131.152089  \n",
      "11     23.74       0.041869     150.520130  \n",
      "12     34.00       0.049347     222.198203  \n",
      "13     20.29       0.045493     123.775472  \n",
      "14      8.64       0.024202      50.783637  \n",
      "15      5.67       0.024652      30.833910  \n",
      "16     12.45       0.042931      70.590017  \n",
      "17     12.29       0.043582      69.339038  \n",
      "18     26.91       0.037375     177.047650  \n",
      "19     17.33       0.069879      95.547720  \n",
      "20     10.03       0.059349      51.452884  \n",
      "21     15.04       0.059213      83.281507  \n",
      "22     22.56       0.059213     134.069554  \n",
      "23     10.17       0.062012      51.865642  \n",
      "24     15.26       0.062033      84.011359  \n",
      "25     25.43       0.061873     153.052825  \n",
      "26      3.38       0.015089      18.291364  \n",
      "27      4.79       0.015110      27.585139  \n",
      "28      6.76       0.015056      41.283475  \n",
      "29      3.97       0.019461      21.112936  \n",
      "30      5.44       0.019429      30.653255  \n",
      "31      7.53       0.019457      44.866938  \n",
      "32      0.00       0.000000       0.000000  \n",
      "33      1.00       0.027778       3.583519  \n",
      "34      5.13       0.015000      29.932579  \n",
      "35      4.48       0.013617      25.966339  \n",
      "104    24.43       0.053348     149.676214  \n",
      "112    11.97       0.023109      74.811741  \n",
      "113     8.48       0.033612      46.899312  \n",
      "114    12.72       0.033613      75.506316  \n"
     ]
    }
   ],
   "source": [
    "print(df)"
   ]
  },
  {
   "cell_type": "code",
   "execution_count": null,
   "id": "231a470e",
   "metadata": {},
   "outputs": [],
   "source": [
    "# Top 5 cutting (ranked best → 5th)\n",
    "top_cutting = (df.sort_values(\"cutting_score\", ascending=False)\n",
    "                 .loc[:, [\"item\", \"calories\", \"protein\", \"cutting_score\"]]\n",
    "                 .head(5).reset_index(drop=True))\n",
    "\n",
    "# Top 5 bulking (ranked best → 5th)\n",
    "top_bulking = (df.sort_values(\"bulking_score\", ascending=False)\n",
    "                 .loc[:, [\"item\", \"calories\", \"protein\", \"bulking_score\"]]\n",
    "                 .head(5).reset_index(drop=True))\n",
    "\n",
    "# Insert rank column for top items\n",
    "top_cutting.insert(0, \"Rank\", range(1, len(top_cutting) + 1))\n",
    "top_bulking.insert(0, \"Rank\", range(1, len(top_bulking) + 1))\n"
   ]
  },
  {
   "cell_type": "code",
   "execution_count": 40,
   "id": "bf065345",
   "metadata": {},
   "outputs": [],
   "source": [
    "# Rounding for display\n",
    "top_cutting[\"cutting_score\"] = top_cutting[\"cutting_score\"].round(3)\n",
    "top_bulking[\"bulking_score\"] = top_bulking[\"bulking_score\"].round(2)"
   ]
  },
  {
   "cell_type": "code",
   "execution_count": 41,
   "id": "91194fd5",
   "metadata": {},
   "outputs": [
    {
     "name": "stdout",
     "output_type": "stream",
     "text": [
      "Top 5 for CUTTING (most protein per calorie):\n",
      "                         item  calories  protein  cutting_score\n",
      "0  McSpicy Fried Chicken 1 pc     248.0    17.33          0.070\n",
      "1      3 piece Chicken Strips     246.0    15.26          0.062\n",
      "2      2 piece Chicken Strips     164.0    10.17          0.062\n",
      "3      5 piece Chicken Strips     411.0    25.43          0.062\n",
      "4   4 piece Chicken McNuggets     169.0    10.03          0.059\n",
      "\n",
      "Top 5 for BULKING (protein * log(calories)):\n",
      "                                         item  calories  protein  bulking_score\n",
      "0                        Chicken Maharaja Mac     689.0    34.00         222.20\n",
      "1  Ghee Rice with Mc Spicy Fried Chicken 1 pc     720.0    26.91         177.05\n",
      "2                            Veg Maharaja Mac     832.0    24.17         162.52\n",
      "3                      5 piece Chicken Strips     411.0    25.43         153.05\n",
      "4                          Spicy Chicken Wrap     567.0    23.74         150.52\n"
     ]
    }
   ],
   "source": [
    "print(\"Top 5 for CUTTING (most protein per calorie):\")\n",
    "print(top_cutting.to_string(index=True))\n",
    "\n",
    "print(\"\\nTop 5 for BULKING (protein * log(calories)):\")\n",
    "print(top_bulking.to_string(index=True))"
   ]
  },
  {
   "cell_type": "code",
   "execution_count": 42,
   "id": "392cef12",
   "metadata": {},
   "outputs": [],
   "source": [
    "# Save the top cutting and bulking items to CSV files\n",
    "top_cutting.to_csv(\"top_cutting.csv\", index=False)\n",
    "top_bulking.to_csv(\"top_bulking.csv\", index=False)\n"
   ]
  }
 ],
 "metadata": {
  "kernelspec": {
   "display_name": "Python 3",
   "language": "python",
   "name": "python3"
  },
  "language_info": {
   "codemirror_mode": {
    "name": "ipython",
    "version": 3
   },
   "file_extension": ".py",
   "mimetype": "text/x-python",
   "name": "python",
   "nbconvert_exporter": "python",
   "pygments_lexer": "ipython3",
   "version": "3.11.9"
  }
 },
 "nbformat": 4,
 "nbformat_minor": 5
}
